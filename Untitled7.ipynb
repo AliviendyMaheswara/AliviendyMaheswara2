{
 "cells": [
  {
   "cell_type": "code",
   "execution_count": 7,
   "id": "d7e42433-a8c6-40ea-8f03-152b382faff9",
   "metadata": {},
   "outputs": [
    {
     "name": "stdin",
     "output_type": "stream",
     "text": [
      "masukan nilai A:  10\n",
      "masukan nilai B:  2\n"
     ]
    },
    {
     "name": "stdout",
     "output_type": "stream",
     "text": [
      "Jumlah  10  dan  2  adalah  12\n",
      "Selisih  10  dan  2  adalah  8\n",
      "Hasil kali  10  dan  2  adalah  20\n",
      "Sisa pembagian  10  dan  2  adalah  0\n",
      "Pembagian  10  dan  2  adalah  5.0\n",
      "Logaritma:  1.0\n",
      "Pangkat:  100\n"
     ]
    }
   ],
   "source": [
    "a=int(input(\"masukan nilai A: \"))\n",
    "b=int(input(\"masukan nilai B: \"))\n",
    "\n",
    "jumlah=a+b\n",
    "selisih=a-b\n",
    "kali=a*b\n",
    "pembagian=a/b\n",
    "sisa_pembagian=a%b\n",
    "logaritma=math.log10(a)\n",
    "pangkat=a**b\n",
    "\n",
    "print(\"Jumlah \", a,\" dan \", b,\" adalah \", jumlah)\n",
    "print(\"Selisih \", a,\" dan \", b,\" adalah \", selisih)\n",
    "print(\"Hasil kali \", a,\" dan \", b,\" adalah \", kali)\n",
    "print(\"Sisa pembagian \", a,\" dan \", b,\" adalah \", sisa_pembagian)\n",
    "print(\"Pembagian \", a,\" dan \", b,\" adalah \", pembagian)\n",
    "print(\"Logaritma: \", logaritma )\n",
    "print(\"Pangkat: \", pangkat)\n",
    "\n"
   ]
  },
  {
   "cell_type": "code",
   "execution_count": 13,
   "id": "00415662-e5e7-45c5-95d9-e172179b7166",
   "metadata": {},
   "outputs": [
    {
     "name": "stdin",
     "output_type": "stream",
     "text": [
      "Lintang Kota 1:  7.2575\n",
      "Bujur Kota 1:  112.7521\n",
      "Lintang Kota 2:  1.3521\n",
      "Bujur Kota 2:  103.8198\n"
     ]
    },
    {
     "name": "stdout",
     "output_type": "stream",
     "text": [
      "Jarak antara dua titik tersebut adalah 1187.9543301320748 Kilometer\n"
     ]
    }
   ],
   "source": [
    "import math\n",
    "lintang1= math.radians (float(input(\"Lintang Kota 1: \")))\n",
    "bujur1= math.radians (float(input(\"Bujur Kota 1: \")))\n",
    "lintang2= math.radians (float(input(\"Lintang Kota 2: \")))\n",
    "bujur2= math.radians (float(input(\"Bujur Kota 2: \")))\n",
    "\n",
    "R=6371\n",
    "Lat=lintang2-lintang1\n",
    "Long=bujur2-bujur1\n",
    "\n",
    "a=math.sin(Lat/2)**2+math.cos(lintang1)*math.cos(lintang2)*math.sin(Long/2)**2\n",
    "C=2*math.atan2(math.sqrt(a),math.sqrt(1-a))\n",
    "d=R*C\n",
    "\n",
    "print(\"Jarak antara dua titik tersebut adalah\", d, \"Kilometer\")"
   ]
  },
  {
   "cell_type": "code",
   "execution_count": null,
   "id": "40218843-9b7d-4095-a613-012699e4c16c",
   "metadata": {},
   "outputs": [],
   "source": []
  }
 ],
 "metadata": {
  "kernelspec": {
   "display_name": "Python 3 (ipykernel)",
   "language": "python",
   "name": "python3"
  },
  "language_info": {
   "codemirror_mode": {
    "name": "ipython",
    "version": 3
   },
   "file_extension": ".py",
   "mimetype": "text/x-python",
   "name": "python",
   "nbconvert_exporter": "python",
   "pygments_lexer": "ipython3",
   "version": "3.12.4"
  }
 },
 "nbformat": 4,
 "nbformat_minor": 5
}
